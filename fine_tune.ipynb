{
 "cells": [
  {
   "cell_type": "code",
   "execution_count": 1,
   "id": "dfd91b2e",
   "metadata": {},
   "outputs": [],
   "source": [
    "import openai"
   ]
  },
  {
   "cell_type": "code",
   "execution_count": null,
   "id": "ceedbffd",
   "metadata": {},
   "outputs": [],
   "source": [
    "API_KEY = \"<YOUR API KEY GOES HERE>\""
   ]
  },
  {
   "cell_type": "code",
   "execution_count": 4,
   "id": "62318a03",
   "metadata": {},
   "outputs": [],
   "source": [
    "client = openai.OpenAI(api_key=API_KEY)"
   ]
  },
  {
   "cell_type": "code",
   "execution_count": null,
   "id": "050af4f7",
   "metadata": {},
   "outputs": [
    {
     "name": "stdout",
     "output_type": "stream",
     "text": [
      "File uploaded: file-Mm3mWcjamKf1N1vKtSdcWk\n"
     ]
    }
   ],
   "source": [
    "file_uploaded = client.files.create(\n",
    "    file=open(\"training_data.jsonl\", \"rb\"),\n",
    "    purpose=\"fine-tune\"\n",
    ")\n",
    "training_file_id = file_uploaded.id\n",
    "print(f\"File uploaded: {training_file_id}\")"
   ]
  },
  {
   "cell_type": "code",
   "execution_count": 9,
   "id": "55f3dda0",
   "metadata": {},
   "outputs": [],
   "source": [
    "job = client.fine_tuning.jobs.create(\n",
    "    training_file=training_file_id,\n",
    "    model=\"gpt-4o-mini-2024-07-18\",\n",
    ")"
   ]
  },
  {
   "cell_type": "code",
   "execution_count": 12,
   "id": "bbfee4f6",
   "metadata": {},
   "outputs": [
    {
     "name": "stdout",
     "output_type": "stream",
     "text": [
      "Fine tune job created: ftjob-3U6q6lFzSiFzEm3YKKJmzjvl\n"
     ]
    }
   ],
   "source": [
    "fine_tune_id = job.id\n",
    "print(f\"Fine tune job created: {fine_tune_id}\")"
   ]
  },
  {
   "cell_type": "code",
   "execution_count": null,
   "id": "1296bef2",
   "metadata": {},
   "outputs": [
    {
     "name": "stdout",
     "output_type": "stream",
     "text": [
      "Cats say \"meow\" primarily as a way to communicate with humans, rather than with each other. 🐱\n"
     ]
    }
   ],
   "source": [
    "completion = client.chat.completions.create(\n",
    "    model=\"<YOUR FINE TUNED MODEL GOES HERE>\",\n",
    "    messages=[\n",
    "        {\n",
    "            \"role\": \"user\",\n",
    "            \"content\": \"Why cats say meow?\"\n",
    "        }\n",
    "    ]\n",
    ")\n",
    "\n",
    "print(completion.choices[0].message.content)"
   ]
  }
 ],
 "metadata": {
  "kernelspec": {
   "display_name": ".venv",
   "language": "python",
   "name": "python3"
  },
  "language_info": {
   "codemirror_mode": {
    "name": "ipython",
    "version": 3
   },
   "file_extension": ".py",
   "mimetype": "text/x-python",
   "name": "python",
   "nbconvert_exporter": "python",
   "pygments_lexer": "ipython3",
   "version": "3.12.7"
  }
 },
 "nbformat": 4,
 "nbformat_minor": 5
}
